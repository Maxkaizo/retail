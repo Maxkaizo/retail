{
 "cells": [
  {
   "cell_type": "markdown",
   "id": "47ddd977",
   "metadata": {},
   "source": [
    "#  Entrenamiento y selección de hiperparámetros"
   ]
  },
  {
   "cell_type": "code",
   "execution_count": 2,
   "id": "56f8b57e",
   "metadata": {},
   "outputs": [],
   "source": [
    "import pandas as pd\n",
    "import mlflow\n",
    "import mlflow.sklearn\n",
    "from sklearn.model_selection import train_test_split\n",
    "from sklearn.metrics import mean_squared_error\n",
    "from sklearn.ensemble import RandomForestRegressor\n",
    "\n",
    "import lightgbm as lgb\n",
    "import xgboost as xgb\n",
    "from catboost import CatBoostRegressor\n",
    "\n",
    "from hyperopt import fmin, tpe, hp, Trials, STATUS_OK"
   ]
  },
  {
   "cell_type": "markdown",
   "id": "5932efe8",
   "metadata": {},
   "source": [
    "## 1. Cargar dataset y filtrar 2023"
   ]
  },
  {
   "cell_type": "code",
   "execution_count": 3,
   "id": "8464f3b0",
   "metadata": {},
   "outputs": [
    {
     "name": "stdout",
     "output_type": "stream",
     "text": [
      "Registros totales 2023: 1239531\n",
      "Rango de fechas: 2023-01-01 00:00:00 → 2023-12-31 00:00:00\n"
     ]
    }
   ],
   "source": [
    "import pandas as pd\n",
    "\n",
    "# Cargar datos\n",
    "df = pd.read_csv(\"../data/sales_train_enriched.csv\", parse_dates=[\"date\"])\n",
    "\n",
    "# Filtrar solo año 2023\n",
    "df = df[df[\"date\"].dt.year == 2023].copy()\n",
    "\n",
    "print(\"Registros totales 2023:\", len(df))\n",
    "print(\"Rango de fechas:\", df[\"date\"].min(), \"→\", df[\"date\"].max())\n"
   ]
  },
  {
   "cell_type": "markdown",
   "id": "55572238",
   "metadata": {},
   "source": [
    "## 2. Split temporal"
   ]
  },
  {
   "cell_type": "code",
   "execution_count": 4,
   "id": "318fe706",
   "metadata": {},
   "outputs": [
    {
     "name": "stdout",
     "output_type": "stream",
     "text": [
      "Tamaño entrenamiento: 991624\n",
      "Tamaño validación: 247907\n",
      "Última fecha train: 2023-10-21 00:00:00\n",
      "Primera fecha val: 2023-10-21 00:00:00\n"
     ]
    }
   ],
   "source": [
    "# Ordenar por fecha (muy importante en series temporales)\n",
    "df = df.sort_values(\"date\")\n",
    "\n",
    "# Split 80/20 cronológico\n",
    "split_idx = int(len(df) * 0.8)\n",
    "\n",
    "train = df.iloc[:split_idx]\n",
    "val   = df.iloc[split_idx:]\n",
    "\n",
    "# Definir X, y\n",
    "X_train = train.drop(columns=[\"sales\", \"date\"])\n",
    "y_train = train[\"sales\"]\n",
    "\n",
    "X_val = val.drop(columns=[\"sales\", \"date\"])\n",
    "y_val = val[\"sales\"]\n",
    "\n",
    "print(\"Tamaño entrenamiento:\", len(train))\n",
    "print(\"Tamaño validación:\", len(val))\n",
    "print(\"Última fecha train:\", train[\"date\"].max())\n",
    "print(\"Primera fecha val:\", val[\"date\"].min())\n"
   ]
  },
  {
   "cell_type": "markdown",
   "id": "4a5adc3e",
   "metadata": {},
   "source": [
    "## 3. Selección de features a usar"
   ]
  },
  {
   "cell_type": "markdown",
   "id": "b47e2a61",
   "metadata": {},
   "source": [
    "Seleccionamos las columnas que realmente creemos que pueden aportar información al modelo"
   ]
  },
  {
   "cell_type": "code",
   "execution_count": 9,
   "id": "9d4f0a14",
   "metadata": {},
   "outputs": [],
   "source": [
    "features = [\n",
    "    \"unique_id\", \"date\", \"warehouse\", \n",
    "    \"availability\", \"price_log\", \"orders_log\", \"max_discount\", \n",
    "    \"holiday\", \"shops_closed\", \"winter_school_holidays\", \"school_holidays\", \n",
    "    \"year\", \"day_of_week\", \"day_of_year\", \"year_month\", \"cos_day\", \"sin_day\", \n",
    "    \"sales_rolling_7d\", \"sales_rolling_28d\"\n",
    "]\n"
   ]
  },
  {
   "cell_type": "code",
   "execution_count": 10,
   "id": "9fafd2c6",
   "metadata": {},
   "outputs": [],
   "source": [
    "target = \"sales_log\""
   ]
  },
  {
   "cell_type": "code",
   "execution_count": null,
   "id": "02d8eb56",
   "metadata": {},
   "outputs": [],
   "source": [
    "from sklearn.feature_extraction import DictVectorizer\n",
    "\n",
    "dv = DictVectorizer(sparse=False)\n",
    "train_dicts = X_train.to_dict(orient=\"records\")\n",
    "X_train_encoded = dv.fit_transform(train_dicts)\n",
    "X_val_encoded = dv.transform(X_val.to_dict(orient=\"records\"))\n"
   ]
  },
  {
   "cell_type": "code",
   "execution_count": null,
   "id": "bb68ffb6",
   "metadata": {},
   "outputs": [],
   "source": []
  }
 ],
 "metadata": {
  "kernelspec": {
   "display_name": "forecasting",
   "language": "python",
   "name": "python3"
  },
  "language_info": {
   "codemirror_mode": {
    "name": "ipython",
    "version": 3
   },
   "file_extension": ".py",
   "mimetype": "text/x-python",
   "name": "python",
   "nbconvert_exporter": "python",
   "pygments_lexer": "ipython3",
   "version": "3.12.11"
  }
 },
 "nbformat": 4,
 "nbformat_minor": 5
}
